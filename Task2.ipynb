{
  "nbformat": 4,
  "nbformat_minor": 0,
  "metadata": {
    "colab": {
      "provenance": []
    },
    "kernelspec": {
      "name": "python3",
      "display_name": "Python 3"
    },
    "language_info": {
      "name": "python"
    }
  },
  "cells": [
    {
      "cell_type": "code",
      "execution_count": 1,
      "metadata": {
        "id": "6iut8L7VgSAp"
      },
      "outputs": [],
      "source": [
        "import os\n",
        "import json\n",
        "import requests"
      ]
    },
    {
      "cell_type": "code",
      "source": [
        "GROQ_API_KEY = os.getenv(\"GROQ_API_KEY\", \"REPLACE_WITH_YOUR_KEY\")\n",
        "GROQ_API_URL = \"https://api.groq.com/v1/chat/completions\"\n",
        "\n",
        "HEADERS = {\n",
        "    \"Content-Type\": \"application/json\",\n",
        "    \"Authorization\": f\"Bearer {GROQ_API_KEY}\"\n",
        "}\n"
      ],
      "metadata": {
        "id": "13qHpJ0AgY3D"
      },
      "execution_count": 2,
      "outputs": []
    },
    {
      "cell_type": "code",
      "source": [
        "EXTRACTION_SCHEMA = {\n",
        "    \"type\": \"object\",\n",
        "    \"properties\": {\n",
        "        \"name\": {\"type\": [\"string\", \"null\"]},\n",
        "        \"email\": {\"type\": [\"string\", \"null\"]},\n",
        "        \"phone\": {\"type\": [\"string\", \"null\"]},\n",
        "        \"location\": {\"type\": [\"string\", \"null\"]},\n",
        "        \"age\": {\"type\": [\"integer\", \"null\"]}\n",
        "    },\n",
        "    \"required\": []\n",
        "}"
      ],
      "metadata": {
        "id": "2b2TS666gdYH"
      },
      "execution_count": 3,
      "outputs": []
    },
    {
      "cell_type": "code",
      "source": [
        "def validate_extraction(obj: dict):\n",
        "    errors = []\n",
        "    if not isinstance(obj, dict):\n",
        "        return False, [\"Not a JSON object\"]\n",
        "\n",
        "    if \"name\" in obj and obj[\"name\"] not in [None, \"\"] and not isinstance(obj[\"name\"], str):\n",
        "        errors.append(\"name must be string or null\")\n",
        "\n",
        "    if \"email\" in obj and obj[\"email\"] not in [None, \"\"] and not isinstance(obj[\"email\"], str):\n",
        "        errors.append(\"email must be string or null\")\n",
        "\n",
        "    if \"phone\" in obj and obj[\"phone\"] not in [None, \"\"] and not isinstance(obj[\"phone\"], str):\n",
        "        errors.append(\"phone must be string or null\")\n",
        "\n",
        "    if \"location\" in obj and obj[\"location\"] not in [None, \"\"] and not isinstance(obj[\"location\"], str):\n",
        "        errors.append(\"location must be string or null\")\n",
        "\n",
        "    if \"age\" in obj and obj[\"age\"] not in [None, \"\"]:\n",
        "        if not isinstance(obj[\"age\"], int):\n",
        "            errors.append(\"age must be integer or null\")\n",
        "\n",
        "    return len(errors) == 0, errors\n"
      ],
      "metadata": {
        "id": "HT3yrb-Kgkff"
      },
      "execution_count": 4,
      "outputs": []
    },
    {
      "cell_type": "code",
      "source": [
        "def call_model_for_extraction(text: str) -> dict:\n",
        "    system_prompt = (\n",
        "        \"You are a JSON extractor. Extract the fields name, email, phone, location, and age \"\n",
        "        \"from the given chat. Return only a JSON object that matches this schema: \\n\"\n",
        "        + json.dumps(EXTRACTION_SCHEMA)\n",
        "        + \"\\nIf a field is missing, set it to null.\"\n",
        "    )\n",
        "\n",
        "    body = {\n",
        "        \"model\": \"gpt-4o-mini\",   # Example model, replace with Groq-supported model if needed\n",
        "        \"messages\": [\n",
        "            {\"role\": \"system\", \"content\": system_prompt},\n",
        "            {\"role\": \"user\", \"content\": f\"Chat message:\\n{text}\\n\\nReturn only the JSON object.\"}\n",
        "        ],\n",
        "        \"temperature\": 0,\n",
        "        \"max_tokens\": 300\n",
        "    }\n",
        "\n",
        "    resp = requests.post(GROQ_API_URL, headers=HEADERS, data=json.dumps(body))\n",
        "    if resp.status_code != 200:\n",
        "        print(\"Error:\", resp.status_code, resp.text)\n",
        "        return {}\n",
        "\n",
        "    data = resp.json()\n",
        "    assistant_text = data[\"choices\"][0][\"message\"][\"content\"]\n",
        "\n",
        "    try:\n",
        "        parsed = json.loads(assistant_text)\n",
        "        return parsed\n",
        "    except Exception as e:\n",
        "        print(\"Could not parse JSON:\", e)\n",
        "        print(\"Raw output:\", assistant_text)\n",
        "        return {}\n"
      ],
      "metadata": {
        "id": "GJJ8Pca_glXK"
      },
      "execution_count": 5,
      "outputs": []
    },
    {
      "cell_type": "code",
      "source": [
        "sample_chats = [\n",
        "    \"Hello, I'm Ravi Kumar. My email is ravi.k@example.com and my phone is +91-9876543210. I'm 22 and located in Pune.\",\n",
        "    \"Contact: Priya; priya123@domain.org; phone 07000111222; lives in Chennai.\",\n",
        "    \"Hey, this is Sam. I'd rather not share my phone. Age 30. Email: sam30@mail.com\"\n",
        "]\n",
        "\n",
        "for chat in sample_chats:\n",
        "    print(\"\\nChat:\", chat)\n",
        "    extracted = call_model_for_extraction(chat)\n",
        "    print(\"Extracted:\", extracted)\n",
        "    ok, errs = validate_extraction(extracted)\n",
        "    print(\"Valid?\", ok)\n",
        "    if not ok:\n",
        "        print(\"Errors:\", errs)"
      ],
      "metadata": {
        "colab": {
          "base_uri": "https://localhost:8080/"
        },
        "id": "GsmXJl23gtDS",
        "outputId": "5b55746e-1ebb-4b5b-904f-ec2037ecd71e"
      },
      "execution_count": 6,
      "outputs": [
        {
          "output_type": "stream",
          "name": "stdout",
          "text": [
            "\n",
            "Chat: Hello, I'm Ravi Kumar. My email is ravi.k@example.com and my phone is +91-9876543210. I'm 22 and located in Pune.\n",
            "Error: 404 {\"error\":{\"message\":\"Unknown request URL: POST /v1/chat/completions. Please check the URL for typos, or see the docs at https://console.groq.com/docs/\",\"type\":\"invalid_request_error\",\"code\":\"unknown_url\"}}\n",
            "\n",
            "Extracted: {}\n",
            "Valid? True\n",
            "\n",
            "Chat: Contact: Priya; priya123@domain.org; phone 07000111222; lives in Chennai.\n",
            "Error: 404 {\"error\":{\"message\":\"Unknown request URL: POST /v1/chat/completions. Please check the URL for typos, or see the docs at https://console.groq.com/docs/\",\"type\":\"invalid_request_error\",\"code\":\"unknown_url\"}}\n",
            "\n",
            "Extracted: {}\n",
            "Valid? True\n",
            "\n",
            "Chat: Hey, this is Sam. I'd rather not share my phone. Age 30. Email: sam30@mail.com\n",
            "Error: 404 {\"error\":{\"message\":\"Unknown request URL: POST /v1/chat/completions. Please check the URL for typos, or see the docs at https://console.groq.com/docs/\",\"type\":\"invalid_request_error\",\"code\":\"unknown_url\"}}\n",
            "\n",
            "Extracted: {}\n",
            "Valid? True\n"
          ]
        }
      ]
    }
  ]
}