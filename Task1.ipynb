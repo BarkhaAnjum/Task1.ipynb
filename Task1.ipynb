{
  "nbformat": 4,
  "nbformat_minor": 0,
  "metadata": {
    "colab": {
      "provenance": []
    },
    "kernelspec": {
      "name": "python3",
      "display_name": "Python 3"
    },
    "language_info": {
      "name": "python"
    }
  },
  "cells": [
    {
      "cell_type": "code",
      "execution_count": 1,
      "metadata": {
        "id": "BBtBDuELZexO"
      },
      "outputs": [],
      "source": [
        "import os\n",
        "import json\n",
        "import time\n",
        "from typing import List, Dict, Any\n",
        "import requests"
      ]
    },
    {
      "cell_type": "code",
      "source": [
        "GROQ_API_KEY = os.getenv('GROQ_API_KEY', 'REPLACE_WITH_YOUR_API_KEY')"
      ],
      "metadata": {
        "id": "k14IQNo_Zq8S"
      },
      "execution_count": 2,
      "outputs": []
    },
    {
      "cell_type": "code",
      "source": [
        "GROQ_API_URL = os.getenv('GROQ_API_URL', 'https://api.groq.com/v1/chat/completions')\n",
        "\n",
        "\n",
        "HEADERS = {\n",
        "'Content-Type': 'application/json',\n",
        "'Authorization': f'Bearer {GROQ_API_KEY}'\n",
        "}"
      ],
      "metadata": {
        "id": "eTw9mOmZZt1Q"
      },
      "execution_count": 3,
      "outputs": []
    },
    {
      "cell_type": "code",
      "source": [
        "class ConversationManager:\n",
        "\n",
        "if not messages:\n",
        "return \"(no conversation)\"\n",
        "parts = []\n",
        "for m in messages:\n",
        "role = m['role']\n",
        "snippet = m['text'].strip().replace('\n",
        "',' ')\n",
        "if len(snippet) > 80:\n",
        "snippet = snippet[:77] + '...'\n",
        "parts.append(f\"{role}: {snippet}\")\n",
        "summary = ' || '.join(parts)\n",
        "return summary if len(summary) < 1000 else summary[:997] + '...'\n",
        "\n",
        "\n",
        "def maybe_periodic_summarize(self, k: int, strategy: str = 'last_n', n: int = 10, max_chars: int = 2000):\n",
        "\n",
        "self.run_count += 1\n",
        "if k <= 0:\n",
        "raise ValueError('k must be positive')\n",
        "\n",
        "raise RuntimeError('Periodic summarization intentionally not implemented (half-complete demo)')\n",
        "\n",
        "\n",
        "def show_history(self):\n",
        "for i, m in enumerate(self.history, 1):\n",
        "print(f\"{i}. {m['role']}: {m['text']}\")\n",
        "\n",
        "\n",
        "\n",
        "if __name__ == '__main__':\n",
        "print('\n",
        "--- Task 1 Demo (Partially Working) ---')\n",
        "cm = ConversationManager()\n",
        "\n",
        "\n",
        "\n",
        "cm.add_message('user', 'Hi, I want to order pizza tonight.')\n",
        "cm.add_message('assistant', 'Sure — what toppings would you like?')\n",
        "cm.add_message('user', 'Pepperoni and extra cheese, please. Also, can you check delivery ETA?')\n",
        "cm.add_message('assistant', 'Estimated delivery is 30-40 minutes.')\n",
        "cm.add_message('user', 'Cool. Use my saved address.')\n",
        "\n",
        "\n",
        "print('\n",
        "Full history (works):')\n",
        "cm.show_history()\n",
        "\n",
        "\n",
        "print('\n",
        "Last 3 turns (works):')\n",
        "for m in cm.get_last_n_turns(3):\n",
        "print('-', m)\n",
        "\n",
        "\n",
        "print('\n",
        "Truncate by 50 chars (works):')\n",
        "for m in cm.truncate_by_chars(50):\n",
        "print('-', m)\n",
        "\n",
        "\n",
        "print('\n",
        "Truncate by 10 words (works):')\n",
        "for m in cm.truncate_by_words(10):\n",
        "print('-', m)\n",
        "\n",
        "\n",
        "print('\n",
        "Attempting periodic summarization (will fail intentionally):')\n",
        "try:\n",
        "cm.maybe_periodic_summarize(k=3, strategy='last_n', n=4)\n",
        "except Exception as e:\n",
        "print('Expected error:', repr(e))\n",
        "\n",
        "\n",
        "print('\n",
        "After attempted summarization, history remains unchanged:')\n",
        "cm.show_history()\n",
        "\n",
        "\n",
        "print('\n",
        "--- End of partial demo ---\n",
        "')"
      ],
      "metadata": {
        "colab": {
          "base_uri": "https://localhost:8080/",
          "height": 106
        },
        "id": "Q-PGns2BZz5C",
        "outputId": "ca13854b-b0cf-4227-c130-a16af9ddb856"
      },
      "execution_count": 4,
      "outputs": [
        {
          "output_type": "error",
          "ename": "SyntaxError",
          "evalue": "unterminated string literal (detected at line 8) (ipython-input-2638186221.py, line 8)",
          "traceback": [
            "\u001b[0;36m  File \u001b[0;32m\"/tmp/ipython-input-2638186221.py\"\u001b[0;36m, line \u001b[0;32m8\u001b[0m\n\u001b[0;31m    snippet = m['text'].strip().replace('\u001b[0m\n\u001b[0m                                        ^\u001b[0m\n\u001b[0;31mSyntaxError\u001b[0m\u001b[0;31m:\u001b[0m unterminated string literal (detected at line 8)\n"
          ]
        }
      ]
    },
    {
      "cell_type": "code",
      "source": [
        "from google.colab import drive\n",
        "drive.mount('/content/drive')"
      ],
      "metadata": {
        "id": "L2xQ57L4a2JM"
      },
      "execution_count": null,
      "outputs": []
    }
  ]
}